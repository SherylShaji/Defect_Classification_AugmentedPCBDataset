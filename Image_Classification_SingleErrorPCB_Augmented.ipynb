{
  "cells": [
    {
      "cell_type": "code",
      "execution_count": null,
      "metadata": {
        "id": "gpQo3gzwixXM"
      },
      "outputs": [],
      "source": [
        "#Importing libraries\n",
        "import keras\n",
        "import tensorflow as tf\n",
        "from keras.models import Sequential\n",
        "from keras.layers import Dense, Activation, Dropout, Flatten, Conv2D, MaxPooling2D\n",
        "import numpy as np\n",
        "from sklearn.model_selection import train_test_split\n",
        "#from sklearn.utils.multiclass import unique_labels\n",
        "from tensorflow.keras.utils import to_categorical\n",
        "from keras.preprocessing.image import ImageDataGenerator\n",
        "#from keras.callbacks import ReduceLROnPlateau\n",
        "import matplotlib.pyplot as plt\n",
        "from sklearn.metrics import accuracy_score\n",
        "#from keras.datasets import cifar10\n",
        "from os import listdir\n",
        "from PIL import Image as PImage\n",
        "from PIL import ImageOps\n",
        "from keras.applications.vgg16 import VGG16\n",
        "from keras.preprocessing import image\n",
        "from keras.applications.vgg16 import preprocess_input\n",
        "from keras.layers import Input, Flatten, Dense\n",
        "from keras.models import Model\n",
        "from tensorflow.keras.regularizers import l2\n",
        "from tensorflow.keras.optimizers import Adam\n",
        "import os\n",
        "import glob\n",
        "from IPython.display import Image\n",
        "from zipfile import ZipFile\n",
        "import pandas as pd"
      ]
    },
    {
      "cell_type": "code",
      "source": [
        "from google.colab import drive\n",
        "drive.mount('/content/drive')"
      ],
      "metadata": {
        "id": "xWHvPza_i6mD"
      },
      "execution_count": null,
      "outputs": []
    },
    {
      "cell_type": "code",
      "source": [
        "with ZipFile('/content/drive/MyDrive/Research/singlePCBerror_4combined.zip', 'r') as f:\n",
        "\n",
        "  f.extractall('/content/drive/MyDrive/singlePCBerror_4combined')"
      ],
      "metadata": {
        "id": "hUmu8ELmi_fU"
      },
      "execution_count": null,
      "outputs": []
    },
    {
      "cell_type": "code",
      "execution_count": null,
      "metadata": {
        "id": "PX0DdKsDixXQ"
      },
      "outputs": [],
      "source": [
        "folder_path=r'/content/drive/MyDrive/singlePCBerror_4combined/singlePCBerror_4combined'\n",
        "imagesList = listdir(folder_path)"
      ]
    },
    {
      "cell_type": "code",
      "execution_count": null,
      "metadata": {
        "id": "keYs1tVPixXR"
      },
      "outputs": [],
      "source": [
        "len(imagesList)"
      ]
    },
    {
      "cell_type": "code",
      "execution_count": null,
      "metadata": {
        "id": "VUXV4CHBixXT"
      },
      "outputs": [],
      "source": [
        "os.chdir(\"/content/drive/MyDrive/singlePCBerror_4combined/singlePCBerror_4combined/\")\n",
        "images = []\n",
        "for filename in glob.glob('*.jpg'): \n",
        "    im=PImage.open(filename)\n",
        "    img=ImageOps.grayscale(im)\n",
        "    img=img.resize((224,224))\n",
        "    img = np.array(img).astype('float32')\n",
        "    images.append(img)"
      ]
    },
    {
      "cell_type": "code",
      "execution_count": null,
      "metadata": {
        "id": "mGRhya42ixXT"
      },
      "outputs": [],
      "source": [
        "len(images)"
      ]
    },
    {
      "cell_type": "code",
      "execution_count": null,
      "metadata": {
        "id": "tPWCdkdPixXU"
      },
      "outputs": [],
      "source": [
        "len(imagesList)"
      ]
    },
    {
      "cell_type": "code",
      "execution_count": null,
      "metadata": {
        "id": "CzacTgM6ixXU"
      },
      "outputs": [],
      "source": [
        "imagesList[0]"
      ]
    },
    {
      "cell_type": "code",
      "execution_count": null,
      "metadata": {
        "id": "-d-78umZixXV"
      },
      "outputs": [],
      "source": [
        "csv_data=pd.read_csv(\"/content/drive/MyDrive/Research/updated_singlePCBerror_4combined_labels.csv\",index_col=False)"
      ]
    },
    {
      "cell_type": "code",
      "execution_count": null,
      "metadata": {
        "id": "FVsiFZPtixXV"
      },
      "outputs": [],
      "source": [
        "final_list=[]\n",
        "len_list=len(imagesList)\n",
        "for i in range(0,len_list):\n",
        "    datarow=csv_data[csv_data['Image_Name']==imagesList[i]]\n",
        "    #print(datarow[['Image_Name','Classes']])\n",
        "    df_reset=datarow.set_index('Classes')\n",
        "    index=df_reset.index\n",
        "    for a in index:\n",
        "        classes=a\n",
        "        data=[imagesList[i],classes]\n",
        "    #print(index[0])\n",
        "    #abc_list=df_reset['Classes']\n",
        "    #print(abc_list)\n",
        "    #classes=df_reset.iloc[:,:]\n",
        "    #print(classes)\n",
        "    print(data)\n",
        "    final_list.append(data)    \n",
        "df = pd.DataFrame(final_list,columns =['Image_Name','Classes'])\n",
        "df.to_csv(r'/content/drive/MyDrive/Research/final_updated_singlePCBerror_4combined_labels.csv', index = False)"
      ]
    },
    {
      "cell_type": "code",
      "execution_count": null,
      "metadata": {
        "id": "lws57cQXixXW"
      },
      "outputs": [],
      "source": [
        "#from google.colab import files\n",
        "\n",
        "#uploaded = files.upload()\n",
        "labels=pd.read_csv(\"/content/drive/MyDrive/Research/final_updated_singlePCBerror_4combined_labels.csv\")\n",
        "#labels=pd.read_csv(\"/home/sshaji/updated_singlePCBerror_4combined_labels.csv\")\n",
        "imageName=labels.pop('Image_Name')\n",
        "labels = labels.pop('Classes')\n",
        "new_labels = np.array([i-1 for i in labels.values])"
      ]
    },
    {
      "cell_type": "code",
      "execution_count": null,
      "metadata": {
        "id": "pv6ZtuW_ixXX"
      },
      "outputs": [],
      "source": [
        "images=np.array(images)\n",
        "print(imagesList[0])\n",
        "#plt.imshow(images[0])\n",
        "#plt.show()"
      ]
    },
    {
      "cell_type": "code",
      "execution_count": null,
      "metadata": {
        "id": "_uzlJwI6ixXY"
      },
      "outputs": [],
      "source": [
        "Image(filename=imagesList[0]) "
      ]
    },
    {
      "cell_type": "code",
      "execution_count": null,
      "metadata": {
        "id": "WJcj2u39ixXY"
      },
      "outputs": [],
      "source": [
        "#Splitting into train and test data\n",
        "train_images, x_test, train_labels, y_test = train_test_split(images, new_labels, test_size=0.2, random_state=42)\n",
        "\n",
        "#splitting the train data(images and labels)to train and validation data\n",
        "#x_val - validation images\n",
        "#y_val - validation labels\n",
        "x_train,x_val,y_train,y_val=train_test_split(train_images,train_labels,test_size=.3)"
      ]
    },
    {
      "cell_type": "code",
      "execution_count": null,
      "metadata": {
        "id": "SzHMj-4FixXZ"
      },
      "outputs": [],
      "source": [
        "print((np.array(x_train).shape,np.array(y_train).shape))\n",
        "print((np.array(x_val).shape,np.array(y_val).shape))\n",
        "print((np.array(x_test).shape,np.array(y_test).shape))"
      ]
    },
    {
      "cell_type": "code",
      "execution_count": null,
      "metadata": {
        "id": "M_VTHXVUixXa"
      },
      "outputs": [],
      "source": [
        "s1 = pd.Series(y_train)\n",
        "y_train=pd.get_dummies(s1)\n",
        "print(y_train.shape)"
      ]
    },
    {
      "cell_type": "code",
      "execution_count": null,
      "metadata": {
        "id": "MdK1zATjixXb"
      },
      "outputs": [],
      "source": [
        "s2 = pd.Series(y_val)\n",
        "y_val=pd.get_dummies(s2)\n",
        "print(y_val.shape)"
      ]
    },
    {
      "cell_type": "code",
      "execution_count": null,
      "metadata": {
        "id": "2io4xe5cixXc"
      },
      "outputs": [],
      "source": [
        "s3 = pd.Series(y_test)\n",
        "y_test=pd.get_dummies(s3)\n",
        "print(y_test.shape)"
      ]
    },
    {
      "cell_type": "code",
      "execution_count": null,
      "metadata": {
        "id": "cuS81B5xixXc"
      },
      "outputs": [],
      "source": [
        "train_generator = ImageDataGenerator(rotation_range=2, horizontal_flip=True,zoom_range=.1 )\n",
        "val_generator = ImageDataGenerator(rotation_range=2, horizontal_flip=True,zoom_range=.1)\n",
        "test_generator = ImageDataGenerator(rotation_range=2, horizontal_flip= True,zoom_range=.1)"
      ]
    },
    {
      "cell_type": "code",
      "execution_count": null,
      "metadata": {
        "id": "vwwYnWIPixXd"
      },
      "outputs": [],
      "source": [
        "x_train=np.array(x_train).reshape(44907, 224, 224, 1)\n",
        "x_val=np.array(x_val).reshape(19246, 224, 224,1)\n",
        "x_test=np.array(x_test).reshape(16039, 224, 224,1)\n",
        "print((x_train.shape,y_train.shape))\n",
        "print((x_val.shape,y_val.shape))\n",
        "print((x_test.shape,y_test.shape))"
      ]
    },
    {
      "cell_type": "code",
      "source": [
        "# Converting the images from grayscale to RGB for input to the VGG16 network\n",
        "x_train=tf.image.grayscale_to_rgb(tf.convert_to_tensor(x_train), name=None)\n",
        "x_val=tf.image.grayscale_to_rgb(tf.convert_to_tensor(x_val), name=None)\n",
        "x_test=tf.image.grayscale_to_rgb(tf.convert_to_tensor(x_test), name=None)"
      ],
      "metadata": {
        "id": "j_zEMDG0xze0"
      },
      "execution_count": null,
      "outputs": []
    },
    {
      "cell_type": "code",
      "source": [
        "# Printing the shape of train, test and validation images\n",
        "print(x_train.shape)\n",
        "print(x_val.shape)\n",
        "print(x_test.shape)"
      ],
      "metadata": {
        "id": "FM77RKVSx0PO"
      },
      "execution_count": null,
      "outputs": []
    },
    {
      "cell_type": "code",
      "execution_count": null,
      "metadata": {
        "id": "HnLbyzafixXd"
      },
      "outputs": [],
      "source": [
        "#Fitting the augmentation to the data\n",
        "train_generator.fit(x_train)\n",
        "val_generator.fit(x_val)\n",
        "test_generator.fit(x_test)"
      ]
    },
    {
      "cell_type": "code",
      "execution_count": null,
      "metadata": {
        "id": "_jIE4orQixXf"
      },
      "outputs": [],
      "source": [
        "# Get the convolutional base of a VGG16 network pretrained on ImageNet dataset\n",
        "vgg16_convoltional_base = VGG16(weights='imagenet', include_top=False)\n",
        "inputlayer=vgg16_convoltional_base.get_layer(index=0)\n",
        "print(inputlayer)\n",
        "inputlayer.trainable=False\n",
        "vgg16_convoltional_base.summary()\n",
        "\n",
        "# Provide the shape of the input data here - 224x224x3\n",
        "input = Input(shape=(224, 224, 3))\n",
        "vgg16_output = vgg16_convoltional_base(input)\n",
        "\n",
        "# Flatten the output, add FC layers, dropout and output layer\n",
        "final_output = Flatten(name='flatten')(vgg16_output)\n",
        "final_output = Dense(512, activation='relu', name='fc1',kernel_regularizer=l2(0.01))(final_output)\n",
        "final_output = Dense(512, activation='relu', name='fc2',kernel_regularizer=l2(0.01))(final_output)\n",
        "final_output = Dropout(0.3)(final_output)\n",
        "final_output = Dense(6, activation='softmax', name='predictions')(final_output)\n",
        "\n",
        "#Create the model and print the model schematic\n",
        "my_model = Model(inputs=input, outputs=final_output)\n",
        "my_model.summary()"
      ]
    },
    {
      "cell_type": "code",
      "execution_count": null,
      "metadata": {
        "id": "HftMs-k8ixXf"
      },
      "outputs": [],
      "source": [
        "# Compiles the model for training\n",
        "\n",
        "my_model.compile(optimizer=Adam(learning_rate=0.00001), \n",
        "                  loss='categorical_crossentropy',\n",
        "                  metrics=['accuracy'])"
      ]
    },
    {
      "cell_type": "code",
      "execution_count": null,
      "metadata": {
        "id": "KaITA89fixXg"
      },
      "outputs": [],
      "source": [
        "#Defining the hyperparameters\n",
        "batch_size= 40\n",
        "epochs=30\n",
        "#learn_rate=.001"
      ]
    },
    {
      "cell_type": "code",
      "execution_count": null,
      "metadata": {
        "id": "MATHISCTixXg"
      },
      "outputs": [],
      "source": [
        "#Training the model \n",
        "history = my_model.fit(train_generator.flow(x_train, y_train, batch_size=batch_size), epochs = epochs, steps_per_epoch = len(x_train)//batch_size, validation_data = val_generator.flow(x_val, y_val, batch_size=batch_size), validation_steps = len(x_test)//batch_size, verbose=1)"
      ]
    },
    {
      "cell_type": "code",
      "execution_count": null,
      "metadata": {
        "id": "zJKHD2USixXg"
      },
      "outputs": [],
      "source": [
        "#Testing the model\n",
        "test_loss, test_acc = my_model.evaluate(x_test,  y_test)"
      ]
    },
    {
      "cell_type": "code",
      "execution_count": null,
      "metadata": {
        "id": "Pp1KmBUCixXh"
      },
      "outputs": [],
      "source": [
        "#Plotting the graphs for accuracy and validation_accuracy\n",
        "plt.plot(history.history['accuracy'],\"-b\", label=\"accuracy\")\n",
        "plt.plot(history.history['val_accuracy'],\"-r\", label=\"val_accuracy\")\n",
        "plt.title('model accuracy')\n",
        "plt.ylabel('accuracy')\n",
        "plt.xlabel('epoch')\n",
        "plt.legend(loc='upper left')\n",
        "plt.show()"
      ]
    },
    {
      "cell_type": "code",
      "execution_count": null,
      "metadata": {
        "id": "Scf2orGCixXh"
      },
      "outputs": [],
      "source": [
        "#Plotting the graphs for loss and validation_loss\n",
        "plt.plot(history.history['loss'],\"-b\", label=\"loss\")\n",
        "plt.plot(history.history['val_loss'],\"-r\", label=\"val_loss\")\n",
        "plt.title('model loss')\n",
        "plt.ylabel('loss')\n",
        "plt.xlabel('epoch')\n",
        "plt.legend(loc='upper left')\n",
        "plt.show()"
      ]
    },
    {
      "cell_type": "code",
      "execution_count": null,
      "metadata": {
        "id": "TO0IaGAgixXi"
      },
      "outputs": [],
      "source": [
        "#Defining the labels\n",
        "class_names = ['open', 'short', 'mousebite', 'spur', 'copper',\n",
        "               'pin-hole']"
      ]
    },
    {
      "cell_type": "code",
      "execution_count": null,
      "metadata": {
        "id": "yE0IspmdixXi"
      },
      "outputs": [],
      "source": [
        "# making predictions\n",
        "prediction=my_model.predict(x_test)\n",
        "for i in range(25):\n",
        "  pil_img = tf.keras.preprocessing.image.array_to_img(x_test[i])\n",
        "  plt.imshow(pil_img)\n",
        "  plt.title(\"Prediction:\"+class_names[np.argmax(prediction[i])])\n",
        "  plt.show()"
      ]
    }
  ],
  "metadata": {
    "kernelspec": {
      "display_name": "Python 3 (ipykernel)",
      "language": "python",
      "name": "python3"
    },
    "language_info": {
      "codemirror_mode": {
        "name": "ipython",
        "version": 3
      },
      "file_extension": ".py",
      "mimetype": "text/x-python",
      "name": "python",
      "nbconvert_exporter": "python",
      "pygments_lexer": "ipython3",
      "version": "3.7.10"
    },
    "colab": {
      "provenance": [],
      "machine_shape": "hm"
    },
    "accelerator": "GPU",
    "gpuClass": "premium"
  },
  "nbformat": 4,
  "nbformat_minor": 0
}